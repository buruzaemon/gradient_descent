{
 "cells": [
  {
   "cell_type": "code",
   "execution_count": 1,
   "metadata": {
    "collapsed": true
   },
   "outputs": [],
   "source": [
    "%matplotlib inline\n",
    "\n",
    "import matplotlib.pyplot as plt\n",
    "import matplotlib.patches as patches\n",
    "import numpy as np\n",
    "import pandas as pd\n",
    "\n",
    "from matplotlib import gridspec\n",
    "from mpl_toolkits.axes_grid.axislines import SubplotZero\n",
    "\n",
    "plt.xkcd()\n",
    "\n",
    "None"
   ]
  },
  {
   "cell_type": "code",
   "execution_count": 2,
   "metadata": {
    "collapsed": false
   },
   "outputs": [
    {
     "data": {
      "text/plain": [
       "<matplotlib.text.Text at 0x2290135f9e8>"
      ]
     },
     "execution_count": 2,
     "metadata": {},
     "output_type": "execute_result"
    },
    {
     "data": {
      "image/png": "[encoded data removed]",
      "text/plain": [
       "<matplotlib.figure.Figure at 0x229012f98d0>"
      ]
     },
     "metadata": {},
     "output_type": "display_data"
    }
   ],
   "source": [
    "fig = plt.figure(1)\n",
    "fig.set_size_inches(4,4)\n",
    "ax = SubplotZero(fig, 111)\n",
    "fig.add_subplot(ax)\n",
    "\n",
    "for k,v in [(\"xzero\", \"\"), (\"yzero\", \"\")]:\n",
    "    ax.axis[k].set_axisline_style(\"-|>\")\n",
    "    ax.axis[k].set_visible(True)\n",
    "    ax.axis[k].set_label(v)\n",
    "    ax.axis[k].set_zorder(-20)\n",
    "\n",
    "ax.xaxis.set_ticks((0,1))\n",
    "ax.yaxis.set_ticks((1,))\n",
    "\n",
    "for direction in [\"left\", \"right\", \"bottom\", \"top\"]:\n",
    "    ax.axis[direction].set_visible(False)\n",
    "\n",
    "ax.scatter((0,1), (1,0), marker=\"x\", s=250, lw=5, facecolor=\"#08519c\")\n",
    "\n",
    "ax.text(1.1, 0.4,\n",
    "        \"~0 = 1\\n~1 = 0\",\n",
    "        style=\"italic\",\n",
    "        bbox={\"facecolor\": 'grey', 'alpha':0.5, 'pad': 10})\n",
    "plt.title('NOT')"
   ]
  },
  {
   "cell_type": "code",
   "execution_count": 27,
   "metadata": {
    "collapsed": true
   },
   "outputs": [],
   "source": [
    "def sigmoid(z):\n",
    "    return 1. / (1 + np.exp(-z))\n",
    "\n",
    "activate = np.vectorize(sigmoid, otypes=[np.dtype('float64')])"
   ]
  },
  {
   "cell_type": "code",
   "execution_count": 28,
   "metadata": {
    "collapsed": true
   },
   "outputs": [],
   "source": [
    "def threshold(a):\n",
    "    if a >= 0.5:\n",
    "        return 1\n",
    "    else:\n",
    "        return 0\n",
    "\n",
    "h = np.vectorize(threshold, otypes=[np.dtype('int8')])"
   ]
  },
  {
   "cell_type": "code",
   "execution_count": 35,
   "metadata": {
    "collapsed": false
   },
   "outputs": [],
   "source": [
    "def create_training_set(Truth, m):\n",
    "    rows, cols = Truth.shape\n",
    "    \n",
    "    train = np.ones(shape=(m, cols+1))\n",
    "    train[:, 1:cols+1] = np.vstack(Truth[np.random.randint(0, rows, size=m)])\n",
    "    X = train[:, 0:cols]\n",
    "    y = train[:, cols:cols+1]\n",
    "    \n",
    "    return X,y\n",
    "\n",
    "def predict(theta, X):\n",
    "    z = X.dot(theta.T)\n",
    "    a = activate(z)\n",
    "    return h(a)"
   ]
  },
  {
   "cell_type": "code",
   "execution_count": null,
   "metadata": {
    "collapsed": true
   },
   "outputs": [],
   "source": [
    "def cost(theta, X, y):\n",
    "    theta = np.matrix(theta)\n",
    "    \n",
    "    m = X.shape[0]\n",
    "    \n",
    "    z = X.dot(theta.T).sum(axis=1)\n",
    "    a = activation(z)\n",
    "    y_hat = h(a)\n",
    "    \n",
    "    cost_simple = np.add(np.multiply(y, np.log1p(y_hat)),\n",
    "                         np.multiply(1-y, np.log1p(1-y_hat)))\n",
    "    \n",
    "    reg = (LAMBDA/2) * np.square(theta[:, 1:X.shape[1]]).sum()\n",
    "    \n",
    "    cost = (-1./m) * (cost_simple.sum() + reg)\n",
    "    \n",
    "    return cost"
   ]
  }
 ],
 "metadata": {
  "kernelspec": {
   "display_name": "Python 3",
   "language": "python",
   "name": "python3"
  },
  "language_info": {
   "codemirror_mode": {
    "name": "ipython",
    "version": 3
   },
   "file_extension": ".py",
   "mimetype": "text/x-python",
   "name": "python",
   "nbconvert_exporter": "python",
   "pygments_lexer": "ipython3",
   "version": "3.6.0"
  }
 },
 "nbformat": 4,
 "nbformat_minor": 2
}
